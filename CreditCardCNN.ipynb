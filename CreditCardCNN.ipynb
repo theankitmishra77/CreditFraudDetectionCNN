{
 "cells": [
  {
   "cell_type": "code",
   "execution_count": 40,
   "metadata": {
    "colab": {
     "base_uri": "https://localhost:8080/"
    },
    "id": "jHggnS7Hp1M0",
    "outputId": "9e5c94f7-f5c0-4bf7-efcb-c022a1bfbc0d"
   },
   "outputs": [
    {
     "name": "stdout",
     "output_type": "stream",
     "text": [
      "2.7.0\n"
     ]
    }
   ],
   "source": [
    "import pandas as pd\n",
    "import numpy as np\n",
    "import  seaborn as sns\n",
    "import matplotlib.pyplot as plt\n",
    "from sklearn.model_selection import train_test_split\n",
    "from sklearn.preprocessing import StandardScaler\n",
    "import tensorflow as tf\n",
    "from tensorflow import keras\n",
    "from tensorflow.keras import Sequential\n",
    "from tensorflow.keras.layers import Flatten, Dense, Dropout, BatchNormalization\n",
    "from tensorflow.keras.layers import Conv1D, MaxPool1D\n",
    "from tensorflow.keras.optimizers import Adam\n",
    "print(tf.__version__)"
   ]
  },
  {
   "cell_type": "code",
   "execution_count": 41,
   "metadata": {
    "colab": {
     "base_uri": "https://localhost:8080/",
     "height": 206
    },
    "id": "4HnGbldXGRRY",
    "outputId": "d5e99e10-9d2d-4cf9-d257-037065d7125a"
   },
   "outputs": [
    {
     "data": {
      "text/html": [
       "\n",
       "  <div id=\"df-78b96e90-8ecc-4b3c-96a3-e72d61e3807c\">\n",
       "    <div class=\"colab-df-container\">\n",
       "      <div>\n",
       "<style scoped>\n",
       "    .dataframe tbody tr th:only-of-type {\n",
       "        vertical-align: middle;\n",
       "    }\n",
       "\n",
       "    .dataframe tbody tr th {\n",
       "        vertical-align: top;\n",
       "    }\n",
       "\n",
       "    .dataframe thead th {\n",
       "        text-align: right;\n",
       "    }\n",
       "</style>\n",
       "<table border=\"1\" class=\"dataframe\">\n",
       "  <thead>\n",
       "    <tr style=\"text-align: right;\">\n",
       "      <th></th>\n",
       "      <th>Period</th>\n",
       "      <th>V2</th>\n",
       "      <th>V3</th>\n",
       "      <th>V4</th>\n",
       "      <th>V5</th>\n",
       "      <th>V6</th>\n",
       "      <th>V7</th>\n",
       "      <th>V8</th>\n",
       "      <th>V9</th>\n",
       "      <th>V10</th>\n",
       "      <th>V11</th>\n",
       "      <th>V12</th>\n",
       "      <th>V13</th>\n",
       "      <th>V14</th>\n",
       "      <th>V15</th>\n",
       "      <th>V16</th>\n",
       "      <th>V17</th>\n",
       "      <th>V18</th>\n",
       "      <th>V19</th>\n",
       "      <th>V20</th>\n",
       "      <th>V21</th>\n",
       "      <th>Class</th>\n",
       "    </tr>\n",
       "  </thead>\n",
       "  <tbody>\n",
       "    <tr>\n",
       "      <th>0</th>\n",
       "      <td>1/4/2015</td>\n",
       "      <td>1</td>\n",
       "      <td>663157.59</td>\n",
       "      <td>39789.47</td>\n",
       "      <td>413934.99</td>\n",
       "      <td>24836.09</td>\n",
       "      <td>0.00</td>\n",
       "      <td>14953.38</td>\n",
       "      <td>0.0</td>\n",
       "      <td>0.00</td>\n",
       "      <td>0.00</td>\n",
       "      <td>0.0</td>\n",
       "      <td>0.00</td>\n",
       "      <td>0.00</td>\n",
       "      <td>0.0</td>\n",
       "      <td>0.0</td>\n",
       "      <td>0.0</td>\n",
       "      <td>62099</td>\n",
       "      <td>1</td>\n",
       "      <td>1</td>\n",
       "      <td>1</td>\n",
       "      <td>0</td>\n",
       "    </tr>\n",
       "    <tr>\n",
       "      <th>1</th>\n",
       "      <td>1/4/2015</td>\n",
       "      <td>1</td>\n",
       "      <td>51800.00</td>\n",
       "      <td>3108.00</td>\n",
       "      <td>70809.87</td>\n",
       "      <td>4304.78</td>\n",
       "      <td>1196.78</td>\n",
       "      <td>0.00</td>\n",
       "      <td>0.0</td>\n",
       "      <td>0.00</td>\n",
       "      <td>3299869.92</td>\n",
       "      <td>0.0</td>\n",
       "      <td>0.00</td>\n",
       "      <td>0.00</td>\n",
       "      <td>0.0</td>\n",
       "      <td>0.0</td>\n",
       "      <td>0.0</td>\n",
       "      <td>33120</td>\n",
       "      <td>2</td>\n",
       "      <td>1</td>\n",
       "      <td>1</td>\n",
       "      <td>0</td>\n",
       "    </tr>\n",
       "    <tr>\n",
       "      <th>2</th>\n",
       "      <td>1/4/2015</td>\n",
       "      <td>1</td>\n",
       "      <td>3905825.43</td>\n",
       "      <td>234349.54</td>\n",
       "      <td>44486.35</td>\n",
       "      <td>2669.19</td>\n",
       "      <td>0.00</td>\n",
       "      <td>231680.35</td>\n",
       "      <td>0.0</td>\n",
       "      <td>0.00</td>\n",
       "      <td>0.00</td>\n",
       "      <td>0.0</td>\n",
       "      <td>0.00</td>\n",
       "      <td>0.00</td>\n",
       "      <td>0.0</td>\n",
       "      <td>0.0</td>\n",
       "      <td>0.0</td>\n",
       "      <td>20111</td>\n",
       "      <td>2</td>\n",
       "      <td>1</td>\n",
       "      <td>1</td>\n",
       "      <td>1</td>\n",
       "    </tr>\n",
       "    <tr>\n",
       "      <th>3</th>\n",
       "      <td>1/4/2015</td>\n",
       "      <td>1</td>\n",
       "      <td>484.91</td>\n",
       "      <td>29.09</td>\n",
       "      <td>0.00</td>\n",
       "      <td>0.00</td>\n",
       "      <td>0.00</td>\n",
       "      <td>29.09</td>\n",
       "      <td>50.0</td>\n",
       "      <td>0.00</td>\n",
       "      <td>0.00</td>\n",
       "      <td>0.0</td>\n",
       "      <td>0.00</td>\n",
       "      <td>0.00</td>\n",
       "      <td>0.0</td>\n",
       "      <td>0.0</td>\n",
       "      <td>0.0</td>\n",
       "      <td>46496</td>\n",
       "      <td>3</td>\n",
       "      <td>1</td>\n",
       "      <td>2</td>\n",
       "      <td>0</td>\n",
       "    </tr>\n",
       "    <tr>\n",
       "      <th>4</th>\n",
       "      <td>1/4/2015</td>\n",
       "      <td>1</td>\n",
       "      <td>178932.65</td>\n",
       "      <td>10735.96</td>\n",
       "      <td>136709.76</td>\n",
       "      <td>8202.59</td>\n",
       "      <td>0.00</td>\n",
       "      <td>2533.37</td>\n",
       "      <td>13020.0</td>\n",
       "      <td>1250455.44</td>\n",
       "      <td>0.00</td>\n",
       "      <td>0.0</td>\n",
       "      <td>299253.43</td>\n",
       "      <td>17955.21</td>\n",
       "      <td>0.0</td>\n",
       "      <td>0.0</td>\n",
       "      <td>0.0</td>\n",
       "      <td>22209</td>\n",
       "      <td>2</td>\n",
       "      <td>1</td>\n",
       "      <td>1</td>\n",
       "      <td>0</td>\n",
       "    </tr>\n",
       "  </tbody>\n",
       "</table>\n",
       "</div>\n",
       "      <button class=\"colab-df-convert\" onclick=\"convertToInteractive('df-78b96e90-8ecc-4b3c-96a3-e72d61e3807c')\"\n",
       "              title=\"Convert this dataframe to an interactive table.\"\n",
       "              style=\"display:none;\">\n",
       "        \n",
       "  <svg xmlns=\"http://www.w3.org/2000/svg\" height=\"24px\"viewBox=\"0 0 24 24\"\n",
       "       width=\"24px\">\n",
       "    <path d=\"M0 0h24v24H0V0z\" fill=\"none\"/>\n",
       "    <path d=\"M18.56 5.44l.94 2.06.94-2.06 2.06-.94-2.06-.94-.94-2.06-.94 2.06-2.06.94zm-11 1L8.5 8.5l.94-2.06 2.06-.94-2.06-.94L8.5 2.5l-.94 2.06-2.06.94zm10 10l.94 2.06.94-2.06 2.06-.94-2.06-.94-.94-2.06-.94 2.06-2.06.94z\"/><path d=\"M17.41 7.96l-1.37-1.37c-.4-.4-.92-.59-1.43-.59-.52 0-1.04.2-1.43.59L10.3 9.45l-7.72 7.72c-.78.78-.78 2.05 0 2.83L4 21.41c.39.39.9.59 1.41.59.51 0 1.02-.2 1.41-.59l7.78-7.78 2.81-2.81c.8-.78.8-2.07 0-2.86zM5.41 20L4 18.59l7.72-7.72 1.47 1.35L5.41 20z\"/>\n",
       "  </svg>\n",
       "      </button>\n",
       "      \n",
       "  <style>\n",
       "    .colab-df-container {\n",
       "      display:flex;\n",
       "      flex-wrap:wrap;\n",
       "      gap: 12px;\n",
       "    }\n",
       "\n",
       "    .colab-df-convert {\n",
       "      background-color: #E8F0FE;\n",
       "      border: none;\n",
       "      border-radius: 50%;\n",
       "      cursor: pointer;\n",
       "      display: none;\n",
       "      fill: #1967D2;\n",
       "      height: 32px;\n",
       "      padding: 0 0 0 0;\n",
       "      width: 32px;\n",
       "    }\n",
       "\n",
       "    .colab-df-convert:hover {\n",
       "      background-color: #E2EBFA;\n",
       "      box-shadow: 0px 1px 2px rgba(60, 64, 67, 0.3), 0px 1px 3px 1px rgba(60, 64, 67, 0.15);\n",
       "      fill: #174EA6;\n",
       "    }\n",
       "\n",
       "    [theme=dark] .colab-df-convert {\n",
       "      background-color: #3B4455;\n",
       "      fill: #D2E3FC;\n",
       "    }\n",
       "\n",
       "    [theme=dark] .colab-df-convert:hover {\n",
       "      background-color: #434B5C;\n",
       "      box-shadow: 0px 1px 3px 1px rgba(0, 0, 0, 0.15);\n",
       "      filter: drop-shadow(0px 1px 2px rgba(0, 0, 0, 0.3));\n",
       "      fill: #FFFFFF;\n",
       "    }\n",
       "  </style>\n",
       "\n",
       "      <script>\n",
       "        const buttonEl =\n",
       "          document.querySelector('#df-78b96e90-8ecc-4b3c-96a3-e72d61e3807c button.colab-df-convert');\n",
       "        buttonEl.style.display =\n",
       "          google.colab.kernel.accessAllowed ? 'block' : 'none';\n",
       "\n",
       "        async function convertToInteractive(key) {\n",
       "          const element = document.querySelector('#df-78b96e90-8ecc-4b3c-96a3-e72d61e3807c');\n",
       "          const dataTable =\n",
       "            await google.colab.kernel.invokeFunction('convertToInteractive',\n",
       "                                                     [key], {});\n",
       "          if (!dataTable) return;\n",
       "\n",
       "          const docLinkHtml = 'Like what you see? Visit the ' +\n",
       "            '<a target=\"_blank\" href=https://colab.research.google.com/notebooks/data_table.ipynb>data table notebook</a>'\n",
       "            + ' to learn more about interactive tables.';\n",
       "          element.innerHTML = '';\n",
       "          dataTable['output_type'] = 'display_data';\n",
       "          await google.colab.output.renderOutput(dataTable, element);\n",
       "          const docLink = document.createElement('div');\n",
       "          docLink.innerHTML = docLinkHtml;\n",
       "          element.appendChild(docLink);\n",
       "        }\n",
       "      </script>\n",
       "    </div>\n",
       "  </div>\n",
       "  "
      ],
      "text/plain": [
       "     Period  V2          V3         V4         V5  ...    V18  V19  V20  V21  Class\n",
       "0  1/4/2015   1   663157.59   39789.47  413934.99  ...  62099    1    1    1      0\n",
       "1  1/4/2015   1    51800.00    3108.00   70809.87  ...  33120    2    1    1      0\n",
       "2  1/4/2015   1  3905825.43  234349.54   44486.35  ...  20111    2    1    1      1\n",
       "3  1/4/2015   1      484.91      29.09       0.00  ...  46496    3    1    2      0\n",
       "4  1/4/2015   1   178932.65   10735.96  136709.76  ...  22209    2    1    1      0\n",
       "\n",
       "[5 rows x 22 columns]"
      ]
     },
     "execution_count": 41,
     "metadata": {},
     "output_type": "execute_result"
    }
   ],
   "source": [
    "Credit_data = pd.read_csv('/content/drive/MyDrive/ColabNotebooks/data_fin.csv')\n",
    "Credit_data.head()"
   ]
  },
  {
   "cell_type": "code",
   "execution_count": 42,
   "metadata": {
    "colab": {
     "base_uri": "https://localhost:8080/",
     "height": 206
    },
    "id": "LmvJdDFJGn21",
    "outputId": "097d3dae-1eef-4706-c3bc-cafac36afe6c"
   },
   "outputs": [
    {
     "data": {
      "text/html": [
       "\n",
       "  <div id=\"df-02ee10be-4241-4bb5-b43b-9156f973b572\">\n",
       "    <div class=\"colab-df-container\">\n",
       "      <div>\n",
       "<style scoped>\n",
       "    .dataframe tbody tr th:only-of-type {\n",
       "        vertical-align: middle;\n",
       "    }\n",
       "\n",
       "    .dataframe tbody tr th {\n",
       "        vertical-align: top;\n",
       "    }\n",
       "\n",
       "    .dataframe thead th {\n",
       "        text-align: right;\n",
       "    }\n",
       "</style>\n",
       "<table border=\"1\" class=\"dataframe\">\n",
       "  <thead>\n",
       "    <tr style=\"text-align: right;\">\n",
       "      <th></th>\n",
       "      <th>Period</th>\n",
       "      <th>V2</th>\n",
       "      <th>V3</th>\n",
       "      <th>V4</th>\n",
       "      <th>V5</th>\n",
       "      <th>V6</th>\n",
       "      <th>V7</th>\n",
       "      <th>V8</th>\n",
       "      <th>V9</th>\n",
       "      <th>V10</th>\n",
       "      <th>V11</th>\n",
       "      <th>V12</th>\n",
       "      <th>V13</th>\n",
       "      <th>V14</th>\n",
       "      <th>V15</th>\n",
       "      <th>V16</th>\n",
       "      <th>V17</th>\n",
       "      <th>V18</th>\n",
       "      <th>V19</th>\n",
       "      <th>V20</th>\n",
       "      <th>V21</th>\n",
       "      <th>Class</th>\n",
       "    </tr>\n",
       "  </thead>\n",
       "  <tbody>\n",
       "    <tr>\n",
       "      <th>2554606</th>\n",
       "      <td>1/10/2018</td>\n",
       "      <td>3</td>\n",
       "      <td>0.00</td>\n",
       "      <td>0.0</td>\n",
       "      <td>0.00</td>\n",
       "      <td>0.0</td>\n",
       "      <td>0.0</td>\n",
       "      <td>0.0</td>\n",
       "      <td>0.00</td>\n",
       "      <td>0.0</td>\n",
       "      <td>0.0</td>\n",
       "      <td>0.0</td>\n",
       "      <td>0.0</td>\n",
       "      <td>0.0</td>\n",
       "      <td>0.0</td>\n",
       "      <td>0.0</td>\n",
       "      <td>0.0</td>\n",
       "      <td>43211</td>\n",
       "      <td>6</td>\n",
       "      <td>2</td>\n",
       "      <td>3</td>\n",
       "      <td>0</td>\n",
       "    </tr>\n",
       "    <tr>\n",
       "      <th>2554607</th>\n",
       "      <td>1/10/2018</td>\n",
       "      <td>3</td>\n",
       "      <td>0.00</td>\n",
       "      <td>0.0</td>\n",
       "      <td>0.00</td>\n",
       "      <td>0.0</td>\n",
       "      <td>0.0</td>\n",
       "      <td>0.0</td>\n",
       "      <td>0.00</td>\n",
       "      <td>0.0</td>\n",
       "      <td>0.0</td>\n",
       "      <td>0.0</td>\n",
       "      <td>0.0</td>\n",
       "      <td>0.0</td>\n",
       "      <td>0.0</td>\n",
       "      <td>0.0</td>\n",
       "      <td>0.0</td>\n",
       "      <td>56210</td>\n",
       "      <td>13</td>\n",
       "      <td>2</td>\n",
       "      <td>1</td>\n",
       "      <td>0</td>\n",
       "    </tr>\n",
       "    <tr>\n",
       "      <th>2554608</th>\n",
       "      <td>1/10/2018</td>\n",
       "      <td>3</td>\n",
       "      <td>1300.00</td>\n",
       "      <td>0.0</td>\n",
       "      <td>123.50</td>\n",
       "      <td>0.0</td>\n",
       "      <td>0.0</td>\n",
       "      <td>0.0</td>\n",
       "      <td>0.00</td>\n",
       "      <td>0.0</td>\n",
       "      <td>0.0</td>\n",
       "      <td>0.0</td>\n",
       "      <td>0.0</td>\n",
       "      <td>0.0</td>\n",
       "      <td>0.0</td>\n",
       "      <td>0.0</td>\n",
       "      <td>0.0</td>\n",
       "      <td>2202</td>\n",
       "      <td>10</td>\n",
       "      <td>1</td>\n",
       "      <td>1</td>\n",
       "      <td>1</td>\n",
       "    </tr>\n",
       "    <tr>\n",
       "      <th>2554609</th>\n",
       "      <td>1/10/2018</td>\n",
       "      <td>3</td>\n",
       "      <td>731934.57</td>\n",
       "      <td>0.0</td>\n",
       "      <td>77601.72</td>\n",
       "      <td>0.0</td>\n",
       "      <td>0.0</td>\n",
       "      <td>0.0</td>\n",
       "      <td>5530.43</td>\n",
       "      <td>0.0</td>\n",
       "      <td>1264.0</td>\n",
       "      <td>0.0</td>\n",
       "      <td>0.0</td>\n",
       "      <td>0.0</td>\n",
       "      <td>0.0</td>\n",
       "      <td>0.0</td>\n",
       "      <td>0.0</td>\n",
       "      <td>47612</td>\n",
       "      <td>3</td>\n",
       "      <td>1</td>\n",
       "      <td>1</td>\n",
       "      <td>0</td>\n",
       "    </tr>\n",
       "    <tr>\n",
       "      <th>2554610</th>\n",
       "      <td>1/10/2018</td>\n",
       "      <td>3</td>\n",
       "      <td>1095.00</td>\n",
       "      <td>0.0</td>\n",
       "      <td>0.00</td>\n",
       "      <td>0.0</td>\n",
       "      <td>0.0</td>\n",
       "      <td>0.0</td>\n",
       "      <td>0.00</td>\n",
       "      <td>0.0</td>\n",
       "      <td>0.0</td>\n",
       "      <td>0.0</td>\n",
       "      <td>0.0</td>\n",
       "      <td>0.0</td>\n",
       "      <td>0.0</td>\n",
       "      <td>0.0</td>\n",
       "      <td>0.0</td>\n",
       "      <td>31001</td>\n",
       "      <td>2</td>\n",
       "      <td>1</td>\n",
       "      <td>1</td>\n",
       "      <td>0</td>\n",
       "    </tr>\n",
       "  </tbody>\n",
       "</table>\n",
       "</div>\n",
       "      <button class=\"colab-df-convert\" onclick=\"convertToInteractive('df-02ee10be-4241-4bb5-b43b-9156f973b572')\"\n",
       "              title=\"Convert this dataframe to an interactive table.\"\n",
       "              style=\"display:none;\">\n",
       "        \n",
       "  <svg xmlns=\"http://www.w3.org/2000/svg\" height=\"24px\"viewBox=\"0 0 24 24\"\n",
       "       width=\"24px\">\n",
       "    <path d=\"M0 0h24v24H0V0z\" fill=\"none\"/>\n",
       "    <path d=\"M18.56 5.44l.94 2.06.94-2.06 2.06-.94-2.06-.94-.94-2.06-.94 2.06-2.06.94zm-11 1L8.5 8.5l.94-2.06 2.06-.94-2.06-.94L8.5 2.5l-.94 2.06-2.06.94zm10 10l.94 2.06.94-2.06 2.06-.94-2.06-.94-.94-2.06-.94 2.06-2.06.94z\"/><path d=\"M17.41 7.96l-1.37-1.37c-.4-.4-.92-.59-1.43-.59-.52 0-1.04.2-1.43.59L10.3 9.45l-7.72 7.72c-.78.78-.78 2.05 0 2.83L4 21.41c.39.39.9.59 1.41.59.51 0 1.02-.2 1.41-.59l7.78-7.78 2.81-2.81c.8-.78.8-2.07 0-2.86zM5.41 20L4 18.59l7.72-7.72 1.47 1.35L5.41 20z\"/>\n",
       "  </svg>\n",
       "      </button>\n",
       "      \n",
       "  <style>\n",
       "    .colab-df-container {\n",
       "      display:flex;\n",
       "      flex-wrap:wrap;\n",
       "      gap: 12px;\n",
       "    }\n",
       "\n",
       "    .colab-df-convert {\n",
       "      background-color: #E8F0FE;\n",
       "      border: none;\n",
       "      border-radius: 50%;\n",
       "      cursor: pointer;\n",
       "      display: none;\n",
       "      fill: #1967D2;\n",
       "      height: 32px;\n",
       "      padding: 0 0 0 0;\n",
       "      width: 32px;\n",
       "    }\n",
       "\n",
       "    .colab-df-convert:hover {\n",
       "      background-color: #E2EBFA;\n",
       "      box-shadow: 0px 1px 2px rgba(60, 64, 67, 0.3), 0px 1px 3px 1px rgba(60, 64, 67, 0.15);\n",
       "      fill: #174EA6;\n",
       "    }\n",
       "\n",
       "    [theme=dark] .colab-df-convert {\n",
       "      background-color: #3B4455;\n",
       "      fill: #D2E3FC;\n",
       "    }\n",
       "\n",
       "    [theme=dark] .colab-df-convert:hover {\n",
       "      background-color: #434B5C;\n",
       "      box-shadow: 0px 1px 3px 1px rgba(0, 0, 0, 0.15);\n",
       "      filter: drop-shadow(0px 1px 2px rgba(0, 0, 0, 0.3));\n",
       "      fill: #FFFFFF;\n",
       "    }\n",
       "  </style>\n",
       "\n",
       "      <script>\n",
       "        const buttonEl =\n",
       "          document.querySelector('#df-02ee10be-4241-4bb5-b43b-9156f973b572 button.colab-df-convert');\n",
       "        buttonEl.style.display =\n",
       "          google.colab.kernel.accessAllowed ? 'block' : 'none';\n",
       "\n",
       "        async function convertToInteractive(key) {\n",
       "          const element = document.querySelector('#df-02ee10be-4241-4bb5-b43b-9156f973b572');\n",
       "          const dataTable =\n",
       "            await google.colab.kernel.invokeFunction('convertToInteractive',\n",
       "                                                     [key], {});\n",
       "          if (!dataTable) return;\n",
       "\n",
       "          const docLinkHtml = 'Like what you see? Visit the ' +\n",
       "            '<a target=\"_blank\" href=https://colab.research.google.com/notebooks/data_table.ipynb>data table notebook</a>'\n",
       "            + ' to learn more about interactive tables.';\n",
       "          element.innerHTML = '';\n",
       "          dataTable['output_type'] = 'display_data';\n",
       "          await google.colab.output.renderOutput(dataTable, element);\n",
       "          const docLink = document.createElement('div');\n",
       "          docLink.innerHTML = docLinkHtml;\n",
       "          element.appendChild(docLink);\n",
       "        }\n",
       "      </script>\n",
       "    </div>\n",
       "  </div>\n",
       "  "
      ],
      "text/plain": [
       "            Period  V2         V3   V4        V5  ...    V18  V19  V20  V21  Class\n",
       "2554606  1/10/2018   3       0.00  0.0      0.00  ...  43211    6    2    3      0\n",
       "2554607  1/10/2018   3       0.00  0.0      0.00  ...  56210   13    2    1      0\n",
       "2554608  1/10/2018   3    1300.00  0.0    123.50  ...   2202   10    1    1      1\n",
       "2554609  1/10/2018   3  731934.57  0.0  77601.72  ...  47612    3    1    1      0\n",
       "2554610  1/10/2018   3    1095.00  0.0      0.00  ...  31001    2    1    1      0\n",
       "\n",
       "[5 rows x 22 columns]"
      ]
     },
     "execution_count": 42,
     "metadata": {},
     "output_type": "execute_result"
    }
   ],
   "source": [
    "Credit_data.tail()"
   ]
  },
  {
   "cell_type": "markdown",
   "metadata": {
    "id": "PTrmiPdYG4if"
   },
   "source": [
    "# Exploratory data Analysis"
   ]
  },
  {
   "cell_type": "code",
   "execution_count": 43,
   "metadata": {
    "colab": {
     "base_uri": "https://localhost:8080/"
    },
    "id": "Ps5FrUaeGxy0",
    "outputId": "1ea0cce6-751f-4044-dcd4-d64920700c29"
   },
   "outputs": [
    {
     "data": {
      "text/plain": [
       "(2554611, 22)"
      ]
     },
     "execution_count": 43,
     "metadata": {},
     "output_type": "execute_result"
    }
   ],
   "source": [
    "Credit_data.shape"
   ]
  },
  {
   "cell_type": "code",
   "execution_count": 44,
   "metadata": {
    "colab": {
     "base_uri": "https://localhost:8080/"
    },
    "id": "dzR1KRgKGx_0",
    "outputId": "600740df-d44d-47f8-ac38-a81cf8732274"
   },
   "outputs": [
    {
     "data": {
      "text/plain": [
       "Period    0\n",
       "V2        0\n",
       "V3        0\n",
       "V4        0\n",
       "V5        0\n",
       "V6        0\n",
       "V7        0\n",
       "V8        0\n",
       "V9        0\n",
       "V10       0\n",
       "V11       0\n",
       "V12       0\n",
       "V13       0\n",
       "V14       0\n",
       "V15       0\n",
       "V16       0\n",
       "V17       0\n",
       "V18       0\n",
       "V19       0\n",
       "V20       0\n",
       "V21       0\n",
       "Class     0\n",
       "dtype: int64"
      ]
     },
     "execution_count": 44,
     "metadata": {},
     "output_type": "execute_result"
    }
   ],
   "source": [
    "Credit_data.isnull().sum()"
   ]
  },
  {
   "cell_type": "code",
   "execution_count": 45,
   "metadata": {
    "colab": {
     "base_uri": "https://localhost:8080/"
    },
    "id": "GhycJsyOGyCo",
    "outputId": "b4aac3c1-db04-4fa5-a392-b35bb916740a"
   },
   "outputs": [
    {
     "name": "stdout",
     "output_type": "stream",
     "text": [
      "<class 'pandas.core.frame.DataFrame'>\n",
      "RangeIndex: 2554611 entries, 0 to 2554610\n",
      "Data columns (total 22 columns):\n",
      " #   Column  Dtype  \n",
      "---  ------  -----  \n",
      " 0   Period  object \n",
      " 1   V2      int64  \n",
      " 2   V3      float64\n",
      " 3   V4      float64\n",
      " 4   V5      float64\n",
      " 5   V6      float64\n",
      " 6   V7      float64\n",
      " 7   V8      float64\n",
      " 8   V9      float64\n",
      " 9   V10     float64\n",
      " 10  V11     float64\n",
      " 11  V12     float64\n",
      " 12  V13     float64\n",
      " 13  V14     float64\n",
      " 14  V15     float64\n",
      " 15  V16     float64\n",
      " 16  V17     float64\n",
      " 17  V18     int64  \n",
      " 18  V19     int64  \n",
      " 19  V20     int64  \n",
      " 20  V21     int64  \n",
      " 21  Class   int64  \n",
      "dtypes: float64(15), int64(6), object(1)\n",
      "memory usage: 428.8+ MB\n"
     ]
    }
   ],
   "source": [
    "Credit_data.info()"
   ]
  },
  {
   "cell_type": "code",
   "execution_count": 46,
   "metadata": {
    "colab": {
     "base_uri": "https://localhost:8080/",
     "height": 638
    },
    "id": "eSZtku_aGyGi",
    "outputId": "17777f86-2e29-41f9-cf9d-9cf3654e7f97"
   },
   "outputs": [
    {
     "data": {
      "text/plain": [
       "Text(0.5, 1.0, 'Class Vs. Count')"
      ]
     },
     "execution_count": 46,
     "metadata": {},
     "output_type": "execute_result"
    },
    {
     "data": {
      "image/png": "[encoded data removed]",
      "text/plain": [
       "<Figure size 1080x720 with 1 Axes>"
      ]
     },
     "metadata": {
      "needs_background": "light"
     },
     "output_type": "display_data"
    }
   ],
   "source": [
    "plt.figure(figsize=(15,10))\n",
    "sns.countplot(x=\"Class\", data=Credit_data , palette=\"dark\")\n",
    "plt.title('Class Vs. Count')"
   ]
  },
  {
   "cell_type": "code",
   "execution_count": 47,
   "metadata": {
    "colab": {
     "base_uri": "https://localhost:8080/",
     "height": 608
    },
    "id": "G_JFd_UFGyIQ",
    "outputId": "bdf4cae9-bd18-496a-9809-3e2ab22c6022"
   },
   "outputs": [
    {
     "data": {
      "text/plain": [
       "Text(0.5, 1.0, 'Piechart showing distribution of Class in the Dataset')"
      ]
     },
     "execution_count": 47,
     "metadata": {},
     "output_type": "execute_result"
    },
    {
     "data": {
      "image/png": "[encoded data removed]",
      "text/plain": [
       "<Figure size 1080x720 with 1 Axes>"
      ]
     },
     "metadata": {},
     "output_type": "display_data"
    }
   ],
   "source": [
    "piedata = Credit_data['Class']\n",
    "plt.figure(figsize=(15,10))\n",
    "piedata.value_counts().plot(kind = 'pie',autopct = '%.3f%%')\n",
    "plt.title('Piechart showing distribution of Class in the Dataset')"
   ]
  },
  {
   "cell_type": "code",
   "execution_count": 48,
   "metadata": {
    "colab": {
     "base_uri": "https://localhost:8080/"
    },
    "id": "Lmg_tYruGyKy",
    "outputId": "2690ba73-bbaf-4ec8-edf8-ee4ed896c617"
   },
   "outputs": [
    {
     "data": {
      "text/plain": [
       "0    2044123\n",
       "1     510488\n",
       "Name: Class, dtype: int64"
      ]
     },
     "execution_count": 48,
     "metadata": {},
     "output_type": "execute_result"
    }
   ],
   "source": [
    "Credit_data['Class'].value_counts()"
   ]
  },
  {
   "cell_type": "markdown",
   "metadata": {
    "id": "rDHAWZu1I77i"
   },
   "source": [
    "# Splitting the data into train and test set"
   ]
  },
  {
   "cell_type": "code",
   "execution_count": 49,
   "metadata": {
    "id": "LzOi_L8JGyNq"
   },
   "outputs": [],
   "source": [
    "X = Credit_data.drop(['Class','Period'], axis = 1)\n",
    "y = Credit_data['Class']"
   ]
  },
  {
   "cell_type": "code",
   "execution_count": 50,
   "metadata": {
    "id": "XI9VwFMGGyQP"
   },
   "outputs": [],
   "source": [
    "X_train, X_test, y_train, y_test = train_test_split(X, y, test_size = 0.3, random_state = 0, stratify = y)"
   ]
  },
  {
   "cell_type": "code",
   "execution_count": 51,
   "metadata": {
    "colab": {
     "base_uri": "https://localhost:8080/"
    },
    "id": "26U0t8BOGyUl",
    "outputId": "a6acd5cc-0d30-4a90-cb0c-a195a3a600e4"
   },
   "outputs": [
    {
     "name": "stdout",
     "output_type": "stream",
     "text": [
      "(1788227, 20)\n",
      "(766384, 20)\n",
      "(1788227,)\n",
      "(766384,)\n"
     ]
    }
   ],
   "source": [
    "print(X_train.shape)\n",
    "print(X_test.shape)\n",
    "print(y_train.shape)\n",
    "print(y_test.shape)"
   ]
  },
  {
   "cell_type": "code",
   "execution_count": 52,
   "metadata": {
    "id": "iBP23tSgJXsd"
   },
   "outputs": [],
   "source": [
    "SS = StandardScaler()\n",
    "X_train = SS.fit_transform(X_train)\n",
    "X_test = SS.transform(X_test)"
   ]
  },
  {
   "cell_type": "markdown",
   "metadata": {
    "id": "gL8D1ywWRIbX"
   },
   "source": [
    "# Reshaping inputs to feed to Convolution Neural Network"
   ]
  },
  {
   "cell_type": "code",
   "execution_count": 53,
   "metadata": {
    "id": "fdIhsirYJmyz"
   },
   "outputs": [],
   "source": [
    "X_train = X_train.reshape(X_train.shape[0], X_train.shape[1], 1)\n",
    "X_test = X_test.reshape(X_test.shape[0], X_test.shape[1], 1)"
   ]
  },
  {
   "cell_type": "code",
   "execution_count": 54,
   "metadata": {
    "colab": {
     "base_uri": "https://localhost:8080/"
    },
    "id": "jw6QTNlYSGZo",
    "outputId": "f79b23ed-e6d2-49b1-e02f-281ba60ab6dd"
   },
   "outputs": [
    {
     "name": "stdout",
     "output_type": "stream",
     "text": [
      "(1788227, 20, 1)\n",
      "(766384, 20, 1)\n"
     ]
    }
   ],
   "source": [
    "print(X_train.shape) \n",
    "print(X_test.shape)"
   ]
  },
  {
   "cell_type": "markdown",
   "metadata": {
    "id": "zSl5ywaLRh8q"
   },
   "source": [
    "# Defining the CNN Architecture"
   ]
  },
  {
   "cell_type": "code",
   "execution_count": 55,
   "metadata": {
    "id": "7Gp7IevbRZ6p"
   },
   "outputs": [],
   "source": [
    "model = Sequential()\n",
    "model.add(Conv1D(128, 2, activation='relu', kernel_initializer='he_normal',input_shape = X_train[0].shape))\n",
    "model.add(BatchNormalization())\n",
    "model.add(Dropout(0.25))\n",
    "\n",
    "model.add(Conv1D(64, 2, activation='relu',kernel_initializer='he_normal'))\n",
    "model.add(BatchNormalization())\n",
    "model.add(Dropout(0.25))\n",
    "\n",
    "model.add(Flatten())\n",
    "model.add(Dense(64, activation='relu',kernel_initializer='he_normal'))\n",
    "model.add(Dropout(0.25))\n",
    "\n",
    "model.add(Dense(1, activation='sigmoid'))"
   ]
  },
  {
   "cell_type": "code",
   "execution_count": 56,
   "metadata": {
    "colab": {
     "base_uri": "https://localhost:8080/"
    },
    "id": "plEnWW1FR8Mf",
    "outputId": "5f9777ed-155c-4005-e25f-6319ee076866"
   },
   "outputs": [
    {
     "name": "stdout",
     "output_type": "stream",
     "text": [
      "Model: \"sequential_5\"\n",
      "_________________________________________________________________\n",
      " Layer (type)                Output Shape              Param #   \n",
      "=================================================================\n",
      " conv1d_10 (Conv1D)          (None, 19, 128)           384       \n",
      "                                                                 \n",
      " batch_normalization_9 (Batc  (None, 19, 128)          512       \n",
      " hNormalization)                                                 \n",
      "                                                                 \n",
      " dropout_13 (Dropout)        (None, 19, 128)           0         \n",
      "                                                                 \n",
      " conv1d_11 (Conv1D)          (None, 18, 64)            16448     \n",
      "                                                                 \n",
      " batch_normalization_10 (Bat  (None, 18, 64)           256       \n",
      " chNormalization)                                                \n",
      "                                                                 \n",
      " dropout_14 (Dropout)        (None, 18, 64)            0         \n",
      "                                                                 \n",
      " flatten_4 (Flatten)         (None, 1152)              0         \n",
      "                                                                 \n",
      " dense_8 (Dense)             (None, 64)                73792     \n",
      "                                                                 \n",
      " dropout_15 (Dropout)        (None, 64)                0         \n",
      "                                                                 \n",
      " dense_9 (Dense)             (None, 1)                 65        \n",
      "                                                                 \n",
      "=================================================================\n",
      "Total params: 91,457\n",
      "Trainable params: 91,073\n",
      "Non-trainable params: 384\n",
      "_________________________________________________________________\n"
     ]
    }
   ],
   "source": [
    "model.summary()"
   ]
  },
  {
   "cell_type": "markdown",
   "metadata": {},
   "source": [
    "## Plot the Model"
   ]
  },
  {
   "cell_type": "code",
   "execution_count": 57,
   "metadata": {
    "colab": {
     "base_uri": "https://localhost:8080/",
     "height": 1000
    },
    "id": "5_MhFWc_ScLY",
    "outputId": "b44fed0c-3352-40b8-dca4-c00ea867610c"
   },
   "outputs": [
    {
     "data": {
      "image/png": "[encoded data removed]",
      "text/plain": [
       "<IPython.core.display.Image object>"
      ]
     },
     "execution_count": 57,
     "metadata": {},
     "output_type": "execute_result"
    }
   ],
   "source": [
    "from tensorflow.keras.utils import plot_model\n",
    "plot_model(model)"
   ]
  },
  {
   "cell_type": "markdown",
   "metadata": {},
   "source": [
    "## Model Training"
   ]
  },
  {
   "cell_type": "code",
   "execution_count": 58,
   "metadata": {
    "colab": {
     "base_uri": "https://localhost:8080/"
    },
    "id": "OEHLumm0Sfs2",
    "outputId": "70aaa437-edba-43b8-ed89-0409b2c772d5"
   },
   "outputs": [
    {
     "name": "stdout",
     "output_type": "stream",
     "text": [
      "Epoch 1/30\n",
      "3493/3493 [==============================] - 346s 99ms/step - loss: 0.3836 - accuracy: 0.8374 - val_loss: 0.3759 - val_accuracy: 0.8397\n",
      "Epoch 2/30\n",
      "3493/3493 [==============================] - 334s 96ms/step - loss: 0.3768 - accuracy: 0.8387 - val_loss: 0.3750 - val_accuracy: 0.8409\n",
      "Epoch 3/30\n",
      "3493/3493 [==============================] - 336s 96ms/step - loss: 0.3753 - accuracy: 0.8391 - val_loss: 0.3899 - val_accuracy: 0.8385\n",
      "Epoch 4/30\n",
      "3493/3493 [==============================] - 338s 97ms/step - loss: 0.3742 - accuracy: 0.8395 - val_loss: 0.3688 - val_accuracy: 0.8417\n",
      "Epoch 5/30\n",
      "3493/3493 [==============================] - 337s 96ms/step - loss: 0.3730 - accuracy: 0.8399 - val_loss: 0.3788 - val_accuracy: 0.8389\n",
      "Epoch 6/30\n",
      "3493/3493 [==============================] - 331s 95ms/step - loss: 0.3721 - accuracy: 0.8400 - val_loss: 0.3685 - val_accuracy: 0.8430\n",
      "Epoch 7/30\n",
      "3493/3493 [==============================] - 332s 95ms/step - loss: 0.3716 - accuracy: 0.8404 - val_loss: 0.3671 - val_accuracy: 0.8434\n",
      "Epoch 8/30\n",
      "3493/3493 [==============================] - 329s 94ms/step - loss: 0.3711 - accuracy: 0.8405 - val_loss: 0.3687 - val_accuracy: 0.8426\n",
      "Epoch 9/30\n",
      "3493/3493 [==============================] - 337s 97ms/step - loss: 0.3707 - accuracy: 0.8406 - val_loss: 0.3675 - val_accuracy: 0.8429\n",
      "Epoch 10/30\n",
      "3493/3493 [==============================] - 333s 95ms/step - loss: 0.3701 - accuracy: 0.8411 - val_loss: 0.3679 - val_accuracy: 0.8413\n",
      "Epoch 11/30\n",
      "3493/3493 [==============================] - 340s 97ms/step - loss: 0.3695 - accuracy: 0.8413 - val_loss: 0.3648 - val_accuracy: 0.8441\n",
      "Epoch 12/30\n",
      "3493/3493 [==============================] - 332s 95ms/step - loss: 0.3688 - accuracy: 0.8416 - val_loss: 0.3670 - val_accuracy: 0.8429\n",
      "Epoch 13/30\n",
      "3493/3493 [==============================] - 333s 95ms/step - loss: 0.3685 - accuracy: 0.8416 - val_loss: 0.3629 - val_accuracy: 0.8446\n",
      "Epoch 14/30\n",
      "3493/3493 [==============================] - 331s 95ms/step - loss: 0.3680 - accuracy: 0.8416 - val_loss: 0.3628 - val_accuracy: 0.8444\n",
      "Epoch 15/30\n",
      "3493/3493 [==============================] - 331s 95ms/step - loss: 0.3676 - accuracy: 0.8419 - val_loss: 0.3623 - val_accuracy: 0.8452\n",
      "Epoch 16/30\n",
      "3493/3493 [==============================] - 333s 95ms/step - loss: 0.3674 - accuracy: 0.8418 - val_loss: 0.3643 - val_accuracy: 0.8434\n",
      "Epoch 17/30\n",
      "3493/3493 [==============================] - 332s 95ms/step - loss: 0.3670 - accuracy: 0.8421 - val_loss: 0.3679 - val_accuracy: 0.8430\n",
      "Epoch 18/30\n",
      "3493/3493 [==============================] - 329s 94ms/step - loss: 0.3668 - accuracy: 0.8422 - val_loss: 0.3618 - val_accuracy: 0.8448\n",
      "Epoch 19/30\n",
      "3493/3493 [==============================] - 332s 95ms/step - loss: 0.3666 - accuracy: 0.8424 - val_loss: 0.3618 - val_accuracy: 0.8437\n",
      "Epoch 20/30\n",
      "3493/3493 [==============================] - 330s 95ms/step - loss: 0.3665 - accuracy: 0.8422 - val_loss: 0.3631 - val_accuracy: 0.8424\n",
      "Epoch 21/30\n",
      "3493/3493 [==============================] - 333s 95ms/step - loss: 0.3663 - accuracy: 0.8423 - val_loss: 0.3605 - val_accuracy: 0.8457\n",
      "Epoch 22/30\n",
      "3493/3493 [==============================] - 333s 95ms/step - loss: 0.3661 - accuracy: 0.8425 - val_loss: 0.3615 - val_accuracy: 0.8452\n",
      "Epoch 23/30\n",
      "3493/3493 [==============================] - 331s 95ms/step - loss: 0.3658 - accuracy: 0.8426 - val_loss: 0.3614 - val_accuracy: 0.8453\n",
      "Epoch 24/30\n",
      "3493/3493 [==============================] - 329s 94ms/step - loss: 0.3657 - accuracy: 0.8427 - val_loss: 0.3622 - val_accuracy: 0.8429\n",
      "Epoch 25/30\n",
      "3493/3493 [==============================] - 332s 95ms/step - loss: 0.3657 - accuracy: 0.8427 - val_loss: 0.3604 - val_accuracy: 0.8458\n",
      "Epoch 26/30\n",
      "3493/3493 [==============================] - 331s 95ms/step - loss: 0.3654 - accuracy: 0.8426 - val_loss: 0.3609 - val_accuracy: 0.8453\n",
      "Epoch 27/30\n",
      "3493/3493 [==============================] - 334s 96ms/step - loss: 0.3654 - accuracy: 0.8428 - val_loss: 0.3623 - val_accuracy: 0.8444\n",
      "Epoch 28/30\n",
      "3493/3493 [==============================] - 333s 95ms/step - loss: 0.3651 - accuracy: 0.8429 - val_loss: 0.3613 - val_accuracy: 0.8445\n",
      "Epoch 29/30\n",
      "3493/3493 [==============================] - 330s 94ms/step - loss: 0.3651 - accuracy: 0.8429 - val_loss: 0.3599 - val_accuracy: 0.8452\n",
      "Epoch 30/30\n",
      "3493/3493 [==============================] - 329s 94ms/step - loss: 0.3649 - accuracy: 0.8431 - val_loss: 0.3606 - val_accuracy: 0.8451\n"
     ]
    }
   ],
   "source": [
    "model.compile(optimizer='adam', loss='binary_crossentropy', metrics=['accuracy'])\n",
    "history = model.fit(X_train, y_train, batch_size=512, epochs=30, verbose=1, validation_data=(X_test,y_test))"
   ]
  },
  {
   "cell_type": "code",
   "execution_count": 60,
   "metadata": {
    "colab": {
     "base_uri": "https://localhost:8080/"
    },
    "id": "K8IFvJ3tURf_",
    "outputId": "ae692fbf-d622-4fb7-9d29-5560a0185513"
   },
   "outputs": [
    {
     "data": {
      "text/plain": [
       "array([[0.07590652],\n",
       "       [0.02372006],\n",
       "       [0.06778112],\n",
       "       ...,\n",
       "       [0.0785445 ],\n",
       "       [0.48833102],\n",
       "       [0.12969106]], dtype=float32)"
      ]
     },
     "execution_count": 60,
     "metadata": {},
     "output_type": "execute_result"
    }
   ],
   "source": [
    "predictions=model.predict(X_test)\n",
    "predictions"
   ]
  },
  {
   "cell_type": "markdown",
   "metadata": {},
   "source": [
    "## Saving the Model"
   ]
  },
  {
   "cell_type": "code",
   "execution_count": 61,
   "metadata": {
    "colab": {
     "base_uri": "https://localhost:8080/"
    },
    "id": "kJl7qHJvSfv2",
    "outputId": "64bc11d6-2d0d-47f9-b5fc-b07dc4cf85bd"
   },
   "outputs": [
    {
     "data": {
      "text/plain": [
       "array([[0.07590652],\n",
       "       [0.02372006],\n",
       "       [0.06778112],\n",
       "       ...,\n",
       "       [0.0785445 ],\n",
       "       [0.48833102],\n",
       "       [0.12969106]], dtype=float32)"
      ]
     },
     "execution_count": 61,
     "metadata": {},
     "output_type": "execute_result"
    }
   ],
   "source": [
    "model.save('/content/drive/MyDrive/CreditCard_CNN.h5')\n",
    "path='/content/drive/MyDrive/CreditCard_CNN.h5'\n",
    "model=tf.keras.models.load_model((path))\n",
    "\n",
    "predictions=model.predict(X_test)\n",
    "predictions"
   ]
  },
  {
   "cell_type": "code",
   "execution_count": 62,
   "metadata": {
    "colab": {
     "base_uri": "https://localhost:8080/"
    },
    "id": "wkBHDIUBSfyd",
    "outputId": "10eff76b-a91b-450a-81fe-810f94e20bff"
   },
   "outputs": [
    {
     "data": {
      "text/plain": [
       "array([[0],\n",
       "       [0],\n",
       "       [0],\n",
       "       ...,\n",
       "       [0],\n",
       "       [0],\n",
       "       [0]])"
      ]
     },
     "execution_count": 62,
     "metadata": {},
     "output_type": "execute_result"
    }
   ],
   "source": [
    "predictions = predictions.round().astype('int')\n",
    "predictions"
   ]
  },
  {
   "cell_type": "markdown",
   "metadata": {},
   "source": [
    "## Accuracy"
   ]
  },
  {
   "cell_type": "code",
   "execution_count": 65,
   "metadata": {
    "colab": {
     "base_uri": "https://localhost:8080/"
    },
    "id": "leZ3ZRklSf1J",
    "outputId": "3e8ad5b2-08c6-4dd8-ff95-603160dc40ad"
   },
   "outputs": [
    {
     "name": "stdout",
     "output_type": "stream",
     "text": [
      "The accuracy of model on test set is: 0.8450985406793461\n"
     ]
    }
   ],
   "source": [
    "from sklearn.metrics import accuracy_score,classification_report,confusion_matrix\n",
    "Acc=accuracy_score(y_test,predictions)\n",
    "print('The accuracy of model on test set is:',  Acc)"
   ]
  },
  {
   "cell_type": "markdown",
   "metadata": {},
   "source": [
    "## Confusion Matrix"
   ]
  },
  {
   "cell_type": "code",
   "execution_count": 66,
   "metadata": {
    "colab": {
     "base_uri": "https://localhost:8080/"
    },
    "id": "KaEiVIn8Sf6F",
    "outputId": "4da3fb1e-e3f1-4817-ffb4-5d6ae6b14425"
   },
   "outputs": [
    {
     "name": "stdout",
     "output_type": "stream",
     "text": [
      "[[576324  36913]\n",
      " [ 81801  71346]]\n"
     ]
    }
   ],
   "source": [
    "CM=confusion_matrix(y_test,predictions)\n",
    "print(CM)"
   ]
  },
  {
   "cell_type": "code",
   "execution_count": 67,
   "metadata": {
    "colab": {
     "base_uri": "https://localhost:8080/",
     "height": 838
    },
    "id": "c53wzFchSf7U",
    "outputId": "b2bff673-0c82-4d76-aed9-ba65ee985f5d"
   },
   "outputs": [
    {
     "data": {
      "image/png": "[encoded data removed]",
      "text/plain": [
       "<Figure size 1440x1008 with 2 Axes>"
      ]
     },
     "metadata": {
      "needs_background": "light"
     },
     "output_type": "display_data"
    }
   ],
   "source": [
    "%matplotlib inline\n",
    "CM_df = pd.DataFrame(CM,index = ['0','1'], columns = ['0','1'])\n",
    "plt.figure(figsize=(20,14))\n",
    "sns.heatmap(CM_df, annot=True, cmap=\"OrRd\")\n",
    "plt.title('Confusion Matrix')\n",
    "plt.ylabel('Actal Values')\n",
    "plt.xlabel('Predicted Values')\n",
    "plt.show()"
   ]
  },
  {
   "cell_type": "markdown",
   "metadata": {},
   "source": [
    "## Classification Report"
   ]
  },
  {
   "cell_type": "code",
   "execution_count": 68,
   "metadata": {
    "colab": {
     "base_uri": "https://localhost:8080/"
    },
    "id": "mhOsbB2oSf87",
    "outputId": "f981c995-6743-4211-a609-86bb04e7aed3"
   },
   "outputs": [
    {
     "name": "stdout",
     "output_type": "stream",
     "text": [
      "              precision    recall  f1-score   support\n",
      "\n",
      "           0       0.88      0.94      0.91    613237\n",
      "           1       0.66      0.47      0.55    153147\n",
      "\n",
      "    accuracy                           0.85    766384\n",
      "   macro avg       0.77      0.70      0.73    766384\n",
      "weighted avg       0.83      0.85      0.83    766384\n",
      "\n"
     ]
    }
   ],
   "source": [
    "CR=classification_report(y_test,predictions)\n",
    "print(CR)"
   ]
  }
 ],
 "metadata": {
  "colab": {
   "name": "CreditCardCNN.ipynb",
   "provenance": []
  },
  "kernelspec": {
   "display_name": "Python 3",
   "language": "python",
   "name": "python3"
  },
  "language_info": {
   "codemirror_mode": {
    "name": "ipython",
    "version": 3
   },
   "file_extension": ".py",
   "mimetype": "text/x-python",
   "name": "python",
   "nbconvert_exporter": "python",
   "pygments_lexer": "ipython3",
   "version": "3.8.5"
  }
 },
 "nbformat": 4,
 "nbformat_minor": 1
}
